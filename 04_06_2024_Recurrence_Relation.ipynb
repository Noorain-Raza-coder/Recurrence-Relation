{
 "cells": [
  {
   "cell_type": "markdown",
   "id": "a8f5a293",
   "metadata": {},
   "source": [
    "## Recurrence Relation Assignment : "
   ]
  },
  {
   "cell_type": "markdown",
   "id": "97c721ae",
   "metadata": {},
   "source": [
    "### 1) Find the value of T(2) for the recurrence relation T(n) = 3T(n-1) + 12n, given that T(0)=5."
   ]
  },
  {
   "cell_type": "markdown",
   "id": "9bc15b7b",
   "metadata": {},
   "source": [
    "#### Ans 1) \n",
    "\n",
    "- T(2) = ?\n",
    "- NOTE: From the given recurrence relation it is clear that to find the nth value, (n-1)th value is required.\n",
    "Similarly to find the value of T(2), T(1) is required and to find T(1), T(0) is required which is given in question.\n",
    "\n",
    "#### Steps :\n",
    "- First find the value of T(1) by using T(0).\n",
    "- Then find the value of T(2) by using T(1).\n",
    "\n",
    "#### Solution : \n",
    "- T(1) = 3T(0) + 12*1\n",
    "- T(1) = 3*5 + 12             [T(0) = 5]\n",
    "- T(1) = 15 + 12\n",
    "- [ T(1) = 27 ]\n",
    "- Therefore : T(2) = 3*T(1) + 12*2\n",
    "- T(2) = 3*27 + 12*2\n",
    "- T(2) = 81 + 24\n",
    "- [T(2) = 105]   ANS.\n"
   ]
  },
  {
   "cell_type": "markdown",
   "id": "b420184c",
   "metadata": {},
   "source": [
    "### 2) Given a recurrence relation, solve it using the substitution method:\n",
    "### a. T(n) = T(n-1) + c\n",
    "### b. T(n) = 2T(n/2) + n\n",
    "### c. T(n) = 2T(n/2) + c\n",
    "### d. T(n) = T(n/2) + c"
   ]
  },
  {
   "cell_type": "markdown",
   "id": "f6254c67",
   "metadata": {},
   "source": [
    "#### Ans 2) . (a) T(n) = T(n-1) + c\n",
    "\n",
    "\n",
    "#### Solution : \n",
    "- T(n) = T(n-1) + c ..... eq (1)\n",
    "- Put n = n-1 in eq 1.\n",
    "- T(n-1) = T(n-2) + c ... eq (2)\n",
    "- Put value of eq 2 in eq 1.\n",
    "- T(n) = T(n-2) + c + c\n",
    "- T(n) = T(n-2) + 2c  ... eq (3)\n",
    "- T(n) = T(n-3) + 3c  ... eq (4)\n",
    "- T(n) = T(n-4) + 4c  ... eq (5)\n",
    "- Simlarly if we repeat the eq... k times then final eq will be..\n",
    "- [T(n) = T(n-k) + kc]\n",
    "- Now find the value of k from the base case condition.\n",
    "- for n = 1 , T(1) = 1 , therefore for (n-k) it should be equal to 1.\n",
    "- n-k = 1 or k = (n-1)\n",
    "- Put this value in final eq..\n",
    "- T(n) = T(n-n+1) + (n-1)c\n",
    "- T(n) = T(1) + c.n - c                     [T(1) = 1] \n",
    "- T(n) = 1 + c.n - c                        [Pick the bigger term.]\n",
    "- [T(n) = O(n)] ANS."
   ]
  },
  {
   "cell_type": "markdown",
   "id": "8bd89996",
   "metadata": {},
   "source": [
    "#### Ans 2) . (b) T(n) = 2T(n/2) + n\n",
    "\n",
    "\n",
    "#### Solution : \n",
    "- T(n) = 2T(n/2) + n ..... eq (1)\n",
    "- Put n = n/2 in eq 1.\n",
    "- T(n/2) = 2*T(n/4) + n/2 ... eq (2)\n",
    "- Put value of eq 2 in eq 1.\n",
    "- T(n) = 2[2*T(n/4) + n/2] + n\n",
    "- T(n) = 4*T(n/4) + 2n  ... eq (3)\n",
    "- T(n) = 8*T(n/8) + 3n  ... eq (4)\n",
    "- T(n) = 16*T(n/16) + 4n  ... eq (5)\n",
    "- Simlarly if we repeat the eq... k times then final eq will be..\n",
    "- [T(n) = 2^k*T(n/2^k) + kn]\n",
    "- Now find the value of k from the base case condition.\n",
    "- for n = 1 , T(1) = 1 , therefore for (n/2^k) it should be equal to 1.\n",
    "- n/2^k = 1 or n = 2^k\n",
    "- [k = log(n)]\n",
    "- Put this value in final eq..\n",
    "- T(n) = 2^(logn)*T(n/2^logn) + n(logn)\n",
    "- T(n) = n* T(1) + n(logn)                    [T(1) = 1] \n",
    "- T(n) = n + n(logn)                        [Pick the bigger term.]\n",
    "- [T(n) = O(nlogn)] ANS."
   ]
  },
  {
   "cell_type": "markdown",
   "id": "0cb7c88f",
   "metadata": {},
   "source": [
    "#### Ans 2) . (c) T(n) = 2T(n/2) + c\n",
    "\n",
    "\n",
    "#### Solution : \n",
    "- T(n) = 2T(n/2) + c             ..... eq (1)\n",
    "- Put n = n/2 in eq 1.\n",
    "- T(n/2) = 2*T(n/4) + c          ... eq (2)\n",
    "- Put value of eq 2 in eq 1.\n",
    "- T(n) = 2[2*T(n/4) + c] + c\n",
    "- T(n) = 4*T(n/4) + 2c + c       ... eq (3)\n",
    "- T(n) = 8*T(n/8) + 3c + 2c + c  ... eq (4)\n",
    "- T(n) = 16*T(n/16) + 4c + 3c + 2c + c   ... eq (5)\n",
    "- Simlarly if we repeat the eq... k times then final eq will be..\n",
    "- [T(n) = 2^k*T(n/2^k) + c(k) + c(k-1) + c(k-2) + c]\n",
    "- Now find the value of k from the base case condition.\n",
    "- for n = 1 , T(1) = 1 , therefore for (n/2^k) it should be equal to 1.\n",
    "- n/2^k = 1 or n = 2^k\n",
    "- [k = log(n)]\n",
    "- Put this value in final eq..\n",
    "- T(n) = 2^(logn)*T(n/2^logn) + c(logn) + c(logn-1) + c(logn-2) + c\n",
    "- T(n) = n* T(1) + c(logn) + c(logn-1) + c(logn-2) + c                    [T(1) = 1] \n",
    "- T(n) = n + c(logn) + c(logn-1) + c(logn-2) + c                        [Pick the bigger term.]\n",
    "- [T(n) = O(n)] ANS."
   ]
  },
  {
   "cell_type": "markdown",
   "id": "4137466b",
   "metadata": {},
   "source": [
    "#### Ans 2) . (d) T(n) = T(n/2) + c\n",
    "\n",
    "\n",
    "#### Solution : \n",
    "- T(n) = T(n/2) + c             ..... eq (1)\n",
    "- Put n = n/2 in eq 1.\n",
    "- T(n/2) = T(n/4) + c          ... eq (2)\n",
    "- Put value of eq 2 in eq 1.\n",
    "- T(n) = [T(n/4) + c] + c\n",
    "- T(n) = T(n/4) + 2c      ... eq (3)\n",
    "- T(n) = T(n/8) + 3c      ... eq (4)\n",
    "- T(n) = T(n/16) + 4c     ... eq (5)\n",
    "- Simlarly if we repeat the eq... k times then final eq will be..\n",
    "- [T(n) = T(n/2^k) + c(k)]\n",
    "- Now find the value of k from the base case condition.\n",
    "- for n = 1 , T(1) = 1 , therefore for (n/2^k) it should be equal to 1.\n",
    "- n/2^k = 1 or n = 2^k\n",
    "- [k = log(n)]\n",
    "- Put this value in final eq..\n",
    "- T(n) = T(n/2^logn) + c(logn)\n",
    "- T(n) = T(1) + c(logn)                    [T(1) = 1] \n",
    "- T(n) = 1 + c(logn)                       [Pick the bigger term.]\n",
    "- [T(n) = O(logn)] ANS."
   ]
  },
  {
   "cell_type": "markdown",
   "id": "2583a8c4",
   "metadata": {},
   "source": [
    "### 3) Given a recurrence relation, solve it using the recursive tree approach:\n",
    "### a. T(n) = 2T(n-1) +1\n",
    "### b. T(n) = 2T(n/2) + n"
   ]
  },
  {
   "cell_type": "markdown",
   "id": "60e1c04b",
   "metadata": {},
   "source": [
    "#### Ans 3) . (a) T(n) = 2T(n-1) + 1\n",
    "\n",
    "\n",
    "#### Solution : \n",
    "- n\n",
    "- (n-1) , (n-1) --> 1 = 2^0\n",
    "- (n-2) , (n-2) , (n-2) , (n-2) --> 2 = 2^1\n",
    "- (n-3) , (n-3) , (n-3) , (n-3) , (n-3) , (n-3) , (n-3) , (n-3) --> 4 = 2^2\n",
    "- ..... if we repeat it for k times then general form will be\n",
    "- (n-k) , ....................................................  --> 2^k\n",
    "- Now write the equation by adding the required at each level..i.e\n",
    "- (2^0 + 2^1 + 2^2 + 2^3 + .... + 2^k) ... eq.(1)\n",
    "- Lets find the value of k from base case.\n",
    "- n = 0 , T(0) = 1 , therefore : n-k (which is the stopping point) should be equal to zero.\n",
    "- n-k = 0 or k = n and put this value in eq (1).\n",
    "- (2^0 + 2^1 + 2^2 + 2^3 + .... + 2^n) (which is a sum of GP series.)\n",
    "- a(r^n - 1)/(r-1) , where a = 1 , r = 2\n",
    "- (2^n -1) / (1)  ... pick the bigger term.\n",
    "- [T(n) = O(2^n)] ANS\n",
    "\n"
   ]
  },
  {
   "cell_type": "markdown",
   "id": "527e29f8",
   "metadata": {},
   "source": [
    "#### Ans 3) . (b) T(n) = 2T(n/2) + n\n",
    "\n",
    "\n",
    "#### Solution : \n",
    "- n\n",
    "- (n/2) , (n/2) --> n \n",
    "- (n/4) , (n/4) , (n/4) , (n/4) --> n\n",
    "- (n/8) , (n/8) , (n/8) , (n/8) , (n/8) , (n/8) , (n/8) , (n/8) --> n\n",
    "- ..... if we repeat it for k times then general form will be\n",
    "- (n/2^k) , ....................................................  --> n\n",
    "- Now write the equation by adding the required at each level..i.e\n",
    "- (n + n + n + n + ........)\n",
    "- nk .... eq .(1)\n",
    "- Now find the value of k from the base case condition.\n",
    "- for n = 1 , T(1) = 1 , therefore for (n/2^k) it should be equal to 1.\n",
    "- n/2^k = 1 or n = 2^k\n",
    "- [k = log(n)]\n",
    "- n(logn)\n",
    "- [O(nlogn)]ANS\n",
    "\n"
   ]
  }
 ],
 "metadata": {
  "kernelspec": {
   "display_name": "Python 3 (ipykernel)",
   "language": "python",
   "name": "python3"
  },
  "language_info": {
   "codemirror_mode": {
    "name": "ipython",
    "version": 3
   },
   "file_extension": ".py",
   "mimetype": "text/x-python",
   "name": "python",
   "nbconvert_exporter": "python",
   "pygments_lexer": "ipython3",
   "version": "3.9.12"
  }
 },
 "nbformat": 4,
 "nbformat_minor": 5
}
